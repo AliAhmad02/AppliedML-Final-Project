{
 "cells": [
  {
   "cell_type": "code",
   "execution_count": null,
   "metadata": {},
   "outputs": [],
   "source": [
    "import numpy as np\n",
    "import pandas as pd\n",
    "import os\n",
    "import torch\n",
    "from torchvision import transforms\n",
    "from torch.utils.data import DataLoader, Subset\n",
    "from torch import nn\n",
    "from torch import optim\n",
    "from scipy.interpolate import CubicSpline\n",
    "from sklearn.preprocessing import MinMaxScaler"
   ]
  },
  {
   "cell_type": "code",
   "execution_count": null,
   "metadata": {},
   "outputs": [],
   "source": [
    "%run ./utilities/constants.ipynb"
   ]
  },
  {
   "cell_type": "code",
   "execution_count": null,
   "metadata": {},
   "outputs": [],
   "source": [
    "%run ./utilities/utils.py"
   ]
  },
  {
   "cell_type": "code",
   "execution_count": null,
   "metadata": {},
   "outputs": [],
   "source": [
    "%run ./utilities/models.py"
   ]
  },
  {
   "cell_type": "code",
   "execution_count": null,
   "metadata": {},
   "outputs": [],
   "source": [
    "%run ./utilities/training_utils.py"
   ]
  },
  {
   "cell_type": "code",
   "execution_count": null,
   "metadata": {},
   "outputs": [],
   "source": [
    "# Paths to data\n",
    "path_kp = os.path.join(DATA_DIR, \"kp_data.txt\")\n",
    "path_img_specs = os.path.join(DATA_DIR, \"image_specs.csv\")"
   ]
  },
  {
   "cell_type": "code",
   "execution_count": null,
   "metadata": {},
   "outputs": [],
   "source": [
    "# Load kp data\n",
    "data_kp = pd.read_csv(path_kp)\n",
    "data_kp[\"datetime\"] = pd.to_datetime(data_kp[\"datetime\"])\n",
    "\n",
    "# Load image specs data\n",
    "img_specs = pd.read_csv(path_img_specs)\n",
    "img_specs[\"datetime\"] = pd.to_datetime(img_specs[\"datetime\"])\n",
    "\n",
    "image_filenames = img_specs[\"filename\"].values\n",
    "image_dates = img_specs[\"datetime\"].values"
   ]
  },
  {
   "cell_type": "code",
   "execution_count": null,
   "metadata": {},
   "outputs": [],
   "source": [
    "image_timestamps = image_dates.astype(\"int64\") // 10**9\n",
    "kp_timestamps = data_kp[\"datetime\"].values.astype(\"int64\") // 10**9\n",
    "kp_index_interpolated = CubicSpline(kp_timestamps, data_kp[\"Kp\"].values)(\n",
    "    image_timestamps\n",
    ")"
   ]
  },
  {
   "cell_type": "code",
   "execution_count": null,
   "metadata": {},
   "outputs": [],
   "source": [
    "df = pd.DataFrame(\n",
    "    {\n",
    "        \"Timestamp\": image_timestamps,\n",
    "        \"Image_filename\": image_filenames,\n",
    "        \"Kp\": kp_index_interpolated,\n",
    "    }\n",
    ")"
   ]
  },
  {
   "cell_type": "code",
   "execution_count": null,
   "metadata": {},
   "outputs": [],
   "source": [
    "day = 24 * 60 * 60\n",
    "year = 365.2425 * day\n",
    "# Synodic carrington rotation of sun\n",
    "cycle = 27.2753 * day\n",
    "df[\"day_sin\"] = np.sin(image_timestamps * (2 * np.pi / day))\n",
    "df[\"day_cos\"] = np.cos(image_timestamps * (2 * np.pi / day))\n",
    "df[\"cycle_sin\"] = np.sin(image_timestamps * (2 * np.pi / cycle))\n",
    "df[\"cycle_cos\"] = np.cos(image_timestamps * (2 * np.pi / cycle))\n",
    "df[\"year_sin\"] = np.sin(image_timestamps * (2 * np.pi / year))\n",
    "df[\"year_cos\"] = np.cos(image_timestamps * (2 * np.pi / year))"
   ]
  },
  {
   "cell_type": "code",
   "execution_count": null,
   "metadata": {},
   "outputs": [],
   "source": [
    "# Scaling the numerical data\n",
    "kp_scaler = MinMaxScaler(feature_range=(-1, 1))\n",
    "timestamp_scaler = MinMaxScaler(feature_range=(-1, 1))\n",
    "\n",
    "df[\"Kp\"] = kp_scaler.fit_transform(df[\"Kp\"].values.reshape(-1, 1))\n",
    "df[\"Timestamp\"] = timestamp_scaler.fit_transform(\n",
    "    df[\"Timestamp\"].values.reshape(-1, 1)\n",
    ")"
   ]
  },
  {
   "cell_type": "code",
   "execution_count": null,
   "metadata": {},
   "outputs": [],
   "source": [
    "seq_length = 7\n",
    "sequences = create_sequence(df, seq_length)"
   ]
  },
  {
   "cell_type": "code",
   "execution_count": null,
   "metadata": {},
   "outputs": [],
   "source": [
    "# img_transform = transforms.Normalize(mean=(0.5, 0.5, 0.5), std=(0.5, 0.5, 0.5))\n",
    "img_transform = transforms.Compose([\n",
    "    transforms.Resize((512, 512)),\n",
    "    transforms.Normalize(mean=(0.5, 0.5, 0.5), std=(0.5, 0.5, 0.5))\n",
    "])"
   ]
  },
  {
   "cell_type": "code",
   "execution_count": null,
   "metadata": {},
   "outputs": [],
   "source": [
    "dataset = ImageAndKpDataset(sequences, PREPROCESSED_IMAGE_DIR, img_transform)"
   ]
  },
  {
   "cell_type": "code",
   "execution_count": null,
   "metadata": {},
   "outputs": [],
   "source": [
    "# Split training data into training and validation data:\n",
    "full_len = len(dataset)\n",
    "train_frac = 0.1 # 0.9\n",
    "train_size = int(full_len * train_frac)\n",
    "train_data = Subset(dataset, range(0, train_size))\n",
    "val_data = Subset(dataset, range(train_size, full_len))\n",
    "batch_size = 4\n",
    "\n",
    "# Create PyTorch dataloaders for data:\n",
    "train_loader = DataLoader(train_data, batch_size=batch_size, pin_memory=True)\n",
    "test_loader = DataLoader(val_data, batch_size=batch_size, pin_memory=True)"
   ]
  },
  {
   "cell_type": "code",
   "execution_count": null,
   "metadata": {},
   "outputs": [],
   "source": [
    "n_epochs = 10\n",
    "loss_fn = nn.MSELoss(reduction=\"mean\")\n",
    "device = torch.device(\"cuda\" if torch.cuda.is_available() else \"cpu\")\n",
    "model = SolarImageKpModel()\n",
    "optimizer = optim.Adam(model.parameters())\n",
    "scheduler = optim.lr_scheduler.StepLR(optimizer, step_size=3, gamma=0.1)\n",
    "model.to(device)"
   ]
  },
  {
   "cell_type": "code",
   "execution_count": null,
   "metadata": {},
   "outputs": [],
   "source": [
    "train_hist, test_hist = train_model(model, optimizer, loss_fn, train_loader, test_loader, device, n_epochs, scheduler=scheduler)"
   ]
  },
  {
   "cell_type": "code",
   "execution_count": null,
   "metadata": {},
   "outputs": [],
   "source": []
  }
 ],
 "metadata": {
  "kernelspec": {
   "display_name": "ali-aml",
   "language": "python",
   "name": "python3"
  },
  "language_info": {
   "codemirror_mode": {
    "name": "ipython",
    "version": 3
   },
   "file_extension": ".py",
   "mimetype": "text/x-python",
   "name": "python",
   "nbconvert_exporter": "python",
   "pygments_lexer": "ipython3",
   "version": "3.12.0"
  }
 },
 "nbformat": 4,
 "nbformat_minor": 2
}
