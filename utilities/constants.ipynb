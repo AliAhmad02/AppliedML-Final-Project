{
 "cells": [
  {
   "cell_type": "code",
   "execution_count": null,
   "metadata": {},
   "outputs": [],
   "source": [
    "import os.path\n",
    "from typing import Final\n",
    "\n",
    "ROOT_DIR: Final[str] = os.path.abspath(\n",
    "    os.path.join(os.path.dirname(__file__), \"..\", \"..\")\n",
    ")\n",
    "\n",
    "# Data directory\n",
    "DATA_DIR: Final[str] = os.path.join(ROOT_DIR, \"data_files\")\n",
    "IMAGE_DIR: Final[str] = os.path.join(DATA_DIR, \"solar_images/\")\n",
    "PREPROCESSED_IMAGE_DIR: Final[str] = os.path.join(IMAGE_DIR, \"preprocessed/\")"
   ]
  }
 ],
 "metadata": {
  "language_info": {
   "name": "python"
  }
 },
 "nbformat": 4,
 "nbformat_minor": 2
}
