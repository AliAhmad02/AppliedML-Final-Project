{
 "cells": [
  {
   "cell_type": "code",
   "execution_count": null,
   "metadata": {},
   "outputs": [],
   "source": [
    "import os.path\n",
    "from typing import Final\n",
    "\n",
    "ROOT_DIR: Final[str] = os.path.abspath(\n",
    "    os.path.join(os.path.dirname(__file__), \"..\", \"..\")\n",
    ")\n",
    "\n",
    "# Data directory\n",
    "DATA_DIR: Final[str] = os.path.join(ROOT_DIR, \"data_files\")"
   ]
  }
 ],
 "metadata": {
  "language_info": {
   "name": "python"
  }
 },
 "nbformat": 4,
 "nbformat_minor": 2
}
